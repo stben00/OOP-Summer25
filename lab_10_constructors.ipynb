{
 "cells": [
  {
   "cell_type": "code",
   "execution_count": 7,
   "id": "07c51353",
   "metadata": {},
   "outputs": [],
   "source": [
    "## Lab 10: Constructors\n",
    "\n",
    "## Task 0: W3Schools Reference"
   ]
  },
  {
   "cell_type": "markdown",
   "id": "cfce298b",
   "metadata": {},
   "source": [
    "class Animal:\n",
    "    def __init__(self):\n",
    "        print('A new animal has been created!')"
   ]
  },
  {
   "cell_type": "code",
   "execution_count": 8,
   "id": "796c6aaa",
   "metadata": {},
   "outputs": [],
   "source": [
    "# Code cell for objects"
   ]
  },
  {
   "cell_type": "code",
   "execution_count": 9,
   "id": "0178155c",
   "metadata": {},
   "outputs": [
    {
     "ename": "NameError",
     "evalue": "name 'Animal' is not defined",
     "output_type": "error",
     "traceback": [
      "\u001b[31m---------------------------------------------------------------------------\u001b[39m",
      "\u001b[31mNameError\u001b[39m                                 Traceback (most recent call last)",
      "\u001b[36mCell\u001b[39m\u001b[36m \u001b[39m\u001b[32mIn[9]\u001b[39m\u001b[32m, line 1\u001b[39m\n\u001b[32m----> \u001b[39m\u001b[32m1\u001b[39m animal1 = \u001b[43mAnimal\u001b[49m()\n\u001b[32m      2\u001b[39m animal2 = Animal()\n\u001b[32m      3\u001b[39m animal3 = Animal()\n",
      "\u001b[31mNameError\u001b[39m: name 'Animal' is not defined"
     ]
    }
   ],
   "source": [
    "animal1 = Animal()\n",
    "animal2 = Animal()\n",
    "animal3 = Animal()"
   ]
  },
  {
   "cell_type": "code",
   "execution_count": null,
   "id": "917f0881",
   "metadata": {},
   "outputs": [],
   "source": [
    "# Code cell for the class"
   ]
  },
  {
   "cell_type": "code",
   "execution_count": null,
   "id": "e6207f3d",
   "metadata": {},
   "outputs": [],
   "source": [
    "class Car:\n",
    "    def __init__(self, brand, model):\n",
    "        self.brand = brand\n",
    "        self.model = model\n",
    "        print(f'Created car: {self.brand} {self.model}')"
   ]
  },
  {
   "cell_type": "code",
   "execution_count": null,
   "id": "a039431e",
   "metadata": {},
   "outputs": [],
   "source": [
    "# Code cell for objects"
   ]
  },
  {
   "cell_type": "code",
   "execution_count": null,
   "id": "8a1d1882",
   "metadata": {},
   "outputs": [],
   "source": [
    "car1 = Car('Toyota', 'Corolla')\n",
    "car2 = Car('BMW', 'X5')\n",
    "car3 = Car('Tesla', 'Model 3')"
   ]
  },
  {
   "cell_type": "code",
   "execution_count": null,
   "id": "43619f18",
   "metadata": {},
   "outputs": [],
   "source": [
    "# Code cell for the class"
   ]
  },
  {
   "cell_type": "code",
   "execution_count": null,
   "id": "4d4d4e1d",
   "metadata": {},
   "outputs": [],
   "source": [
    "class House:\n",
    "    def __init__(self, address, rooms, price):\n",
    "        self.address = address\n",
    "        self.rooms = rooms\n",
    "        self.price = price\n",
    "        print(f'Created house at {self.address} with {self.rooms} rooms for ${self.price}')"
   ]
  },
  {
   "cell_type": "code",
   "execution_count": null,
   "id": "7f9bd268",
   "metadata": {},
   "outputs": [],
   "source": [
    "# Code cell for objects"
   ]
  },
  {
   "cell_type": "code",
   "execution_count": null,
   "id": "d0375b37",
   "metadata": {},
   "outputs": [],
   "source": [
    "house1 = House('123 Main St', 3, 250000)\n",
    "house2 = House('456 Oak Ave', 5, 450000)"
   ]
  },
  {
   "cell_type": "code",
   "execution_count": null,
   "id": "0cc74f04",
   "metadata": {},
   "outputs": [],
   "source": []
  },
  {
   "cell_type": "code",
   "execution_count": null,
   "id": "a0798512",
   "metadata": {},
   "outputs": [],
   "source": []
  }
 ],
 "metadata": {
  "kernelspec": {
   "display_name": "Python 3",
   "language": "python",
   "name": "python3"
  },
  "language_info": {
   "codemirror_mode": {
    "name": "ipython",
    "version": 3
   },
   "file_extension": ".py",
   "mimetype": "text/x-python",
   "name": "python",
   "nbconvert_exporter": "python",
   "pygments_lexer": "ipython3",
   "version": "3.12.1"
  }
 },
 "nbformat": 4,
 "nbformat_minor": 5
}

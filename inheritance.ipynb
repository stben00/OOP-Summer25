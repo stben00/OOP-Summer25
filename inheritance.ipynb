{
 "cells": [
  {
   "cell_type": "code",
   "execution_count": 3,
   "id": "41b0bd65",
   "metadata": {},
   "outputs": [],
   "source": [
    "class Bird:\n",
    "    def fly(self):\n",
    "        return \"Bird is flying\"\n",
    "\n",
    "class Airplane:\n",
    "    def fly(self):\n",
    "        return \"Airplane is flying\"\n",
    "\n",
    "class Superman:\n",
    "    def fly(self):\n",
    "        return \"Superman is flying\"\n"
   ]
  },
  {
   "cell_type": "markdown",
   "id": "889d45a2",
   "metadata": {},
   "source": [
    "fly_test \n"
   ]
  },
  {
   "cell_type": "code",
   "execution_count": 5,
   "id": "a53c1d55",
   "metadata": {},
   "outputs": [],
   "source": [
    "\n",
    "def fly_test(entity):\n",
    "    print(entity.fly())\n"
   ]
  }
 ],
 "metadata": {
  "kernelspec": {
   "display_name": "Python 3",
   "language": "python",
   "name": "python3"
  },
  "language_info": {
   "codemirror_mode": {
    "name": "ipython",
    "version": 3
   },
   "file_extension": ".py",
   "mimetype": "text/x-python",
   "name": "python",
   "nbconvert_exporter": "python",
   "pygments_lexer": "ipython3",
   "version": "3.12.1"
  }
 },
 "nbformat": 4,
 "nbformat_minor": 5
}
